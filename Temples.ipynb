import requests, re, csv, sys

import pandas as pd
from bs4 import BeautifulSoup
import bs4 as bs
import urllib.request
import numpy as np
import matplotlib.pyplot as plt
import seaborn as sns
import warnings
warnings.filterwarnings("ignore")


basepath = "C:"
codepath="python"
function = "temples"
N="\\"
namefile = "googledata"

def prt(p):

    width = len(p) + 4
    print('┏' + "━"*width + "┓")
    print('┃' + p.center(width) + '┃')
    print('┗' + "━"*width + "┛")

arglen =  len(sys.argv)

exampleurl = "https://www.googlengine.com/tnt"

pythoncode = str(sys.argv[0])

if (arglen != 2):
    pi="\'Input website is not given .. !  \' :"
    p = ("{} {}".format(pi,exampleurl))
    prt(p)
    pi="python "
    p = ("{} {} {}".format(pi,pythoncode, exampleurl))
    prt(p)
    searchpg = exampleurl
else:
    searchpg = str(sys.argv[1])

gourl = re.sub(r'^.+/([^/]+)$', r'\1', searchpg)

if not (gourl):
    gourl = "tnt"

inputcsvfilename = ("{}{}{}{}".format(namefile,"_",gourl,".csv"))

googletempledata = ("{}{}{}{}{}{}{}{}{}".format(basepath,N,codepath,N,function,N,"data",N,inputcsvfilename))

temple_data = pd.read_csv(googletempledata)

#temple_data['State']=temple_data['templeName'].str.split(',',expand=True)[1]

def pltfig(parameter):

    plt.figure(figsize=(15,6))
    sns.countplot(parameter,
                  x = parameter,  
                  data = temple_data, 
                  palette="Set1"
                
                  )
    plt.xticks(rotation = 90)
    
    plt.show()


     
pltfig('Temple Name')
#pltfig(temple_data.State.value_counts())

pltfig(temple_data.State.unique())

#pltfig('DistanceFromMumbai(Km)')

def temp(city):
    return temple_data.sort_values(by=[city],ignore_index=True).loc[:,['Temple Name',city]].head(10)

deldis = temp("Distance From Bengaluru(Km)")

print(deldis)
