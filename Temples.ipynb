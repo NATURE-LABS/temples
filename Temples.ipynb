{
 "cells": [
  {
   "cell_type": "code",
   "execution_count": null,
   "id": "75759469-79ba-4fd2-b0bc-be41cdd6f59d",
   "metadata": {},
   "outputs": [],
   "source": [
    "import pandas as pd\n",
    "import numpy as np\n",
    "import matplotlib.pyplot as plt\n",
    "import seaborn as sns\n",
    "import warnings\n",
    "warnings.filterwarnings(\"ignore\")\n",
    "\n",
    "\n",
    "basepath = \"C:\"\n",
    "codepath=\"python\"\n",
    "function = \"temples\"\n",
    "csvfile = \"indiatemples.csv\"\n",
    "N=\"\\\\\"\n",
    "inputcsvfile = (\"{}{}{}{}{}{}{}\".format(basepath,N, codepath, N, function, N, csvfile))\n",
    "\n",
    "temple_data = pd.read_csv(inputcsvfile)\n",
    "\n",
    "#temple_data['State']=temple_data['templeName'].str.split(',',expand=True)[1]\n",
    "\n",
    "def pltfig(parameter):\n",
    "\n",
    "    plt.figure(figsize=(15,6))\n",
    "    sns.countplot(parameter,\n",
    "                  x = parameter,  \n",
    "                  data = temple_data, \n",
    "                  palette=\"Set1\"\n",
    "                \n",
    "                  )\n",
    "    plt.xticks(rotation = 90)\n",
    "    \n",
    "    plt.show()\n",
    "\n",
    "     \n",
    "pltfig('Temple Name')\n",
    "#pltfig(temple_data.State.value_counts())\n",
    "\n",
    "pltfig(temple_data.State.unique())\n",
    "\n",
    "#pltfig('DistanceFromMumbai(Km)')\n",
    "\n",
    "def temp(city):\n",
    "    return temple_data.sort_values(by=[city],ignore_index=True).loc[:,['Temple Name',city]].head(100)\n",
    "\n",
    "deldis = temp(\"Distance From Bengaluru(Km)\")\n",
    "\n",
    "print(deldis)\n"
   ]
  }
 ],
 "metadata": {
  "kernelspec": {
   "display_name": "Python 3 (ipykernel)",
   "language": "python",
   "name": "python3"
  },
  "language_info": {
   "codemirror_mode": {
    "name": "ipython",
    "version": 3
   },
   "file_extension": ".py",
   "mimetype": "text/x-python",
   "name": "python",
   "nbconvert_exporter": "python",
   "pygments_lexer": "ipython3",
   "version": "3.9.7"
  }
 },
 "nbformat": 4,
 "nbformat_minor": 5
}
